{
  "nbformat": 4,
  "nbformat_minor": 0,
  "metadata": {
    "colab": {
      "provenance": []
    },
    "kernelspec": {
      "name": "python3",
      "display_name": "Python 3"
    },
    "language_info": {
      "name": "python"
    }
  },
  "cells": [
    {
      "cell_type": "code",
      "source": [
        "def merge_sort(arr, depth=0):\n",
        "    indent = \"  \" * depth\n",
        "    print(f\"{indent}Dizi: {arr}\")\n",
        "    if len(arr) > 1:\n",
        "        mid = len(arr) // 2\n",
        "        left = arr[:mid]\n",
        "        right = arr[mid:]\n",
        "        print(f\"{indent}Sol: {left}, Sağ: {right}\")\n",
        "        merge_sort(left, depth+1)\n",
        "        merge_sort(right, depth+1)\n",
        "        i = j = k = 0\n",
        "        while i < len(left) and j < len(right):\n",
        "            if left[i] < right[j]:\n",
        "                arr[k] = left[i]\n",
        "                i += 1\n",
        "            else:\n",
        "                arr[k] = right[j]\n",
        "                j += 1\n",
        "            k += 1\n",
        "        while i < len(left):\n",
        "            arr[k] = left[i]\n",
        "            i += 1\n",
        "            k += 1\n",
        "        while j < len(right):\n",
        "            arr[k] = right[j]\n",
        "            j += 1\n",
        "            k += 1\n",
        "        print(f\"{indent}Birlestirildi: {arr}\")\n",
        "    return arr"
      ],
      "metadata": {
        "id": "zi4MsprGq8w5"
      },
      "execution_count": 5,
      "outputs": []
    },
    {
      "cell_type": "code",
      "source": [
        "arr = [16, 21, 11, 8, 12, 22]\n",
        "print(\"Başlangıç:\", arr)\n",
        "sorted_arr = merge_sort(arr.copy())\n",
        "print(\"Sonuç (Merge Sort):\", sorted_arr)"
      ],
      "metadata": {
        "colab": {
          "base_uri": "https://localhost:8080/"
        },
        "id": "cDcVtjtSsQVb",
        "outputId": "fc4c75a3-f95e-4816-cb11-5f2cef515194"
      },
      "execution_count": 6,
      "outputs": [
        {
          "output_type": "stream",
          "name": "stdout",
          "text": [
            "Başlangıç: [16, 21, 11, 8, 12, 22]\n",
            "Dizi: [16, 21, 11, 8, 12, 22]\n",
            "Sol: [16, 21, 11], Sağ: [8, 12, 22]\n",
            "  Dizi: [16, 21, 11]\n",
            "  Sol: [16], Sağ: [21, 11]\n",
            "    Dizi: [16]\n",
            "    Dizi: [21, 11]\n",
            "    Sol: [21], Sağ: [11]\n",
            "      Dizi: [21]\n",
            "      Dizi: [11]\n",
            "    Birlestirildi: [11, 21]\n",
            "  Birlestirildi: [11, 16, 21]\n",
            "  Dizi: [8, 12, 22]\n",
            "  Sol: [8], Sağ: [12, 22]\n",
            "    Dizi: [8]\n",
            "    Dizi: [12, 22]\n",
            "    Sol: [12], Sağ: [22]\n",
            "      Dizi: [12]\n",
            "      Dizi: [22]\n",
            "    Birlestirildi: [12, 22]\n",
            "  Birlestirildi: [8, 12, 22]\n",
            "Birlestirildi: [8, 11, 12, 16, 21, 22]\n",
            "Sonuç (Merge Sort): [8, 11, 12, 16, 21, 22]\n"
          ]
        }
      ]
    },
    {
      "cell_type": "code",
      "source": [],
      "metadata": {
        "id": "IuowEu-6sRQ3"
      },
      "execution_count": 6,
      "outputs": []
    }
  ]
}