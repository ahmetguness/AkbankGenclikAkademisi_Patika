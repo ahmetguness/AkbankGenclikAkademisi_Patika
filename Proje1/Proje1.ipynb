{
  "nbformat": 4,
  "nbformat_minor": 0,
  "metadata": {
    "colab": {
      "provenance": []
    },
    "kernelspec": {
      "name": "python3",
      "display_name": "Python 3"
    },
    "language_info": {
      "name": "python"
    }
  },
  "cells": [
    {
      "cell_type": "code",
      "execution_count": 1,
      "metadata": {
        "id": "HqNvP_Wnq6MG",
        "outputId": "f766bf9f-ff13-48be-e05e-8e48b5317c7b",
        "colab": {
          "base_uri": "https://localhost:8080/"
        }
      },
      "outputs": [
        {
          "output_type": "stream",
          "name": "stdout",
          "text": [
            "Başlangıç: [22, 27, 16, 2, 18, 6]\n",
            "Adım 1: [22, 27, 16, 2, 18, 6]\n",
            "Adım 2: [16, 22, 27, 2, 18, 6]\n",
            "Adım 3: [2, 16, 22, 27, 18, 6]\n",
            "Adım 4: [2, 16, 18, 22, 27, 6]\n",
            "Adım 5: [2, 6, 16, 18, 22, 27]\n",
            "Sonuç (Insertion Sort): [2, 6, 16, 18, 22, 27]\n"
          ]
        }
      ],
      "source": [
        "def insertion_sort(arr):\n",
        "    print(\"Başlangıç:\", arr)\n",
        "    for i in range(1, len(arr)):\n",
        "        key = arr[i]\n",
        "        j = i - 1\n",
        "        while j >= 0 and arr[j] > key:\n",
        "            arr[j + 1] = arr[j]\n",
        "            j -= 1\n",
        "        arr[j + 1] = key\n",
        "        print(f\"Adım {i}:\", arr)\n",
        "    return arr\n",
        "\n",
        "arr1 = [22, 27, 16, 2, 18, 6]\n",
        "sorted_arr1 = insertion_sort(arr1.copy())\n",
        "print(\"Sonuç (Insertion Sort):\", sorted_arr1)\n"
      ]
    },
    {
      "cell_type": "code",
      "source": [
        "def selection_sort_steps(arr, steps=4):\n",
        "    print(\"Başlangıç:\", arr)\n",
        "    n = len(arr)\n",
        "    for i in range(min(steps, n - 1)):\n",
        "        min_index = i\n",
        "        for j in range(i + 1, n):\n",
        "            if arr[j] < arr[min_index]:\n",
        "                min_index = j\n",
        "        arr[i], arr[min_index] = arr[min_index], arr[i]\n",
        "        print(f\"Adım {i+1}:\", arr)\n",
        "    return arr\n",
        "\n",
        "arr2 = [7, 3, 5, 8, 2, 9, 4, 15, 6]\n",
        "sorted_arr2 = selection_sort_steps(arr2.copy(), steps=4)\n",
        "print(\"İlk 4 adım sonrası (Selection Sort):\", sorted_arr2)\n"
      ],
      "metadata": {
        "id": "94Itg37hq69S",
        "outputId": "c8dfe895-1667-43a2-f041-da8181bbd9a8",
        "colab": {
          "base_uri": "https://localhost:8080/"
        }
      },
      "execution_count": 2,
      "outputs": [
        {
          "output_type": "stream",
          "name": "stdout",
          "text": [
            "Başlangıç: [7, 3, 5, 8, 2, 9, 4, 15, 6]\n",
            "Adım 1: [2, 3, 5, 8, 7, 9, 4, 15, 6]\n",
            "Adım 2: [2, 3, 5, 8, 7, 9, 4, 15, 6]\n",
            "Adım 3: [2, 3, 4, 8, 7, 9, 5, 15, 6]\n",
            "Adım 4: [2, 3, 4, 5, 7, 9, 8, 15, 6]\n",
            "İlk 4 adım sonrası (Selection Sort): [2, 3, 4, 5, 7, 9, 8, 15, 6]\n"
          ]
        }
      ]
    },
    {
      "cell_type": "code",
      "source": [],
      "metadata": {
        "id": "zi4MsprGq8w5"
      },
      "execution_count": null,
      "outputs": []
    }
  ]
}