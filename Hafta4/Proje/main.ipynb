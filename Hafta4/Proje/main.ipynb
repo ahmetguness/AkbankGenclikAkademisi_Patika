{
  "nbformat": 4,
  "nbformat_minor": 0,
  "metadata": {
    "colab": {
      "provenance": []
    },
    "kernelspec": {
      "name": "python3",
      "display_name": "Python 3"
    },
    "language_info": {
      "name": "python"
    }
  },
  "cells": [
    {
      "cell_type": "code",
      "execution_count": 7,
      "metadata": {
        "colab": {
          "base_uri": "https://localhost:8080/"
        },
        "id": "BtitNlH_vimW",
        "outputId": "74b974e1-35cd-420a-c1cf-19c829636101"
      },
      "outputs": [
        {
          "output_type": "stream",
          "name": "stdout",
          "text": [
            "Input: [1, 'a', ['cat', 2], [[[3]], 'dog'], 4, 5]\n",
            "Output: [1, 'a', 'cat', 2, 3, 'dog', 4, 5]\n"
          ]
        }
      ],
      "source": [
        "def flatten(lst):\n",
        "    result = []\n",
        "    for item in lst:\n",
        "        if isinstance(item, list):   # Eğer eleman listeyse, recursive olarak aç\n",
        "            result.extend(flatten(item))\n",
        "        else:                        # Değilse direkt ekle\n",
        "            result.append(item)\n",
        "    return result\n",
        "\n",
        "# Örnek kullanım\n",
        "input_data = [1, 'a', ['cat', 2], [[[3]], 'dog'], 4, 5]\n",
        "print(\"Input:\", input_data)\n",
        "print(\"Output:\", flatten(input_data))\n"
      ]
    },
    {
      "cell_type": "code",
      "source": [
        "def reverse_elements(lst):\n",
        "    result = []\n",
        "    for item in lst:\n",
        "        if isinstance(item, list):   # Eğer eleman listeyse, önce ters çevir sonra recursive uygula\n",
        "            result.append(reverse_elements(item[::-1]))\n",
        "        else:                        # Liste değilse direkt ekle\n",
        "            return lst[::-1]\n",
        "    return result[::-1]  # dış listeyi de ters çevir\n",
        "\n",
        "# Örnek kullanım\n",
        "input_data = [[1, 2], [3, 4], [5, 6, 7]]\n",
        "print(\"Input:\", input_data)\n",
        "print(\"Output:\", reverse_elements(input_data))\n"
      ],
      "metadata": {
        "colab": {
          "base_uri": "https://localhost:8080/"
        },
        "id": "FjmA4EwQvjZh",
        "outputId": "218b4563-b39c-4b80-ab72-fe725f6313ff"
      },
      "execution_count": 8,
      "outputs": [
        {
          "output_type": "stream",
          "name": "stdout",
          "text": [
            "Input: [[1, 2], [3, 4], [5, 6, 7]]\n",
            "Output: [[5, 6, 7], [3, 4], [1, 2]]\n"
          ]
        }
      ]
    },
    {
      "cell_type": "code",
      "source": [],
      "metadata": {
        "id": "3TdCFGtKv3eB"
      },
      "execution_count": 8,
      "outputs": []
    }
  ]
}