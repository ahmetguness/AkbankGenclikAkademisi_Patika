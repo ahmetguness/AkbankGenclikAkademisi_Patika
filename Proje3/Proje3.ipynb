{
  "nbformat": 4,
  "nbformat_minor": 0,
  "metadata": {
    "colab": {
      "provenance": []
    },
    "kernelspec": {
      "name": "python3",
      "display_name": "Python 3"
    },
    "language_info": {
      "name": "python"
    }
  },
  "cells": [
    {
      "cell_type": "code",
      "source": [
        "class Node:\n",
        "    def __init__(self, key):\n",
        "        self.key = key\n",
        "        self.left = None\n",
        "        self.right = None"
      ],
      "metadata": {
        "id": "IuowEu-6sRQ3"
      },
      "execution_count": 7,
      "outputs": []
    },
    {
      "cell_type": "code",
      "source": [
        "class BST:\n",
        "    def __init__(self):\n",
        "        self.root = None\n",
        "\n",
        "    def insert(self, root, key):\n",
        "        if root is None:\n",
        "            return Node(key)\n",
        "\n",
        "        if key < root.key:\n",
        "            root.left = self.insert(root.left, key)\n",
        "        else:\n",
        "            root.right = self.insert(root.right, key)\n",
        "\n",
        "        return root\n",
        "\n",
        "    def inorder(self, root):\n",
        "        if root:\n",
        "            self.inorder(root.left)\n",
        "            print(root.key, end=\" \")\n",
        "            self.inorder(root.right)"
      ],
      "metadata": {
        "id": "S8oJODyBtnHn"
      },
      "execution_count": 8,
      "outputs": []
    },
    {
      "cell_type": "code",
      "source": [
        "arr = [7, 5, 1, 8, 3, 6, 0, 9, 4, 2]\n",
        "tree = BST()\n",
        "root = None\n",
        "\n",
        "print(\"Adım adım ekleme:\")\n",
        "for num in arr:\n",
        "    root = tree.insert(root, num)\n",
        "    print(f\"{num} eklendi.\")\n",
        "\n",
        "print(\"\\nInorder traversal (küçükten büyüğe):\")\n",
        "tree.inorder(root)"
      ],
      "metadata": {
        "colab": {
          "base_uri": "https://localhost:8080/"
        },
        "id": "K9GOt-vCtoB2",
        "outputId": "a18b549d-ab3e-430b-ac18-dcda868ce687"
      },
      "execution_count": 9,
      "outputs": [
        {
          "output_type": "stream",
          "name": "stdout",
          "text": [
            "Adım adım ekleme:\n",
            "7 eklendi.\n",
            "5 eklendi.\n",
            "1 eklendi.\n",
            "8 eklendi.\n",
            "3 eklendi.\n",
            "6 eklendi.\n",
            "0 eklendi.\n",
            "9 eklendi.\n",
            "4 eklendi.\n",
            "2 eklendi.\n",
            "\n",
            "Inorder traversal (küçükten büyüğe):\n",
            "0 1 2 3 4 5 6 7 8 9 "
          ]
        }
      ]
    },
    {
      "cell_type": "code",
      "source": [],
      "metadata": {
        "id": "QW4-kHritpDe"
      },
      "execution_count": null,
      "outputs": []
    }
  ]
}